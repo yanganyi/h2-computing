{
  "nbformat": 4,
  "nbformat_minor": 0,
  "metadata": {
    "colab": {
      "provenance": []
    },
    "kernelspec": {
      "name": "python3",
      "display_name": "Python 3"
    },
    "language_info": {
      "name": "python"
    }
  },
  "cells": [
    {
      "cell_type": "markdown",
      "source": [
        "# Tutorial 2"
      ],
      "metadata": {
        "id": "QMKu95qJoxJb"
      }
    },
    {
      "cell_type": "markdown",
      "source": [
        "1. NA, NA, NA, dogcat, dog cat"
      ],
      "metadata": {
        "id": "szlqfXNblcCO"
      }
    },
    {
      "cell_type": "markdown",
      "source": [
        "2. 11, 10, 10.67"
      ],
      "metadata": {
        "id": "KmLUNO37mLw8"
      }
    },
    {
      "cell_type": "code",
      "execution_count": null,
      "metadata": {
        "colab": {
          "base_uri": "https://localhost:8080/"
        },
        "id": "YTJjCtu0lEPO",
        "outputId": "d2e431ff-2f88-424f-fd43-807031e40fa6"
      },
      "outputs": [
        {
          "output_type": "stream",
          "name": "stdout",
          "text": [
            "11\n",
            "10\n",
            "10.67\n"
          ]
        }
      ],
      "source": [
        "# 2.\n",
        "print(round(10.6))\n",
        "print(int(10.6))\n",
        "print(round(10.666,2))"
      ]
    },
    {
      "cell_type": "markdown",
      "source": [
        "3. <br>\n",
        "a) Your salary is $24.32 <br>\n",
        "b) The area is 24.3 <br>\n",
        "c) 24.325000 <br>\n",
        "d) BMI btw 18.500000 and 24.325 is ideal <br>\n",
        "e) Overweight =  24.32 - 29.90 <br>"
      ],
      "metadata": {
        "id": "rvGB40VNnDYs"
      }
    },
    {
      "cell_type": "code",
      "source": [
        "# 3.\n",
        "amount=24.325\n",
        "print(f\"Your salary is ${amount:.2f}\")\n",
        "print(f\"The area is {amount:.1f}\")\n",
        "print(f\"{amount:7f}\")\n",
        "print(f\"BMI btw {18.5:f} and {amount:2.3f} is ideal\")\n",
        "print(f\"Overweight ={amount:>7.2f} - {29.9:.2f}\")"
      ],
      "metadata": {
        "colab": {
          "base_uri": "https://localhost:8080/"
        },
        "id": "G7bw4AOamA3z",
        "outputId": "7d80eb9d-2e68-4674-829d-28ccdc3c4e36"
      },
      "execution_count": null,
      "outputs": [
        {
          "output_type": "stream",
          "name": "stdout",
          "text": [
            "Your salary is $24.32\n",
            "The area is 24.3\n",
            "24.325000\n",
            "BMI btw 18.500000 and 24.325 is ideal\n",
            "Overweight =  24.32 - 29.90\n"
          ]
        }
      ]
    },
    {
      "cell_type": "code",
      "source": [
        "# 4.\n",
        "x = input(\"x: \")\n",
        "y = input(\"y: \")\n",
        "z = input(\"z: \")\n",
        "\n",
        "print(f\"{x:>6}{y:>6}{z:>6}\")"
      ],
      "metadata": {
        "colab": {
          "base_uri": "https://localhost:8080/"
        },
        "id": "TYdy4iP3n6OM",
        "outputId": "6d4c8e77-2c17-49d1-faef-f4abb3e792a7"
      },
      "execution_count": null,
      "outputs": [
        {
          "output_type": "stream",
          "name": "stdout",
          "text": [
            "x: 12\n",
            "y: 123\n",
            "z: 987\n",
            "    12   123   987\n"
          ]
        }
      ]
    },
    {
      "cell_type": "code",
      "source": [
        "# 5.\n",
        "from math import pow as p\n",
        "print(p(8,2))\n",
        "# honestly just do 8**2"
      ],
      "metadata": {
        "colab": {
          "base_uri": "https://localhost:8080/"
        },
        "id": "DNnohiMcodsG",
        "outputId": "56b8fdec-a8c9-4c83-fcef-4ae4e33c4fe6"
      },
      "execution_count": null,
      "outputs": [
        {
          "output_type": "stream",
          "name": "stdout",
          "text": [
            "64.0\n"
          ]
        }
      ]
    },
    {
      "cell_type": "markdown",
      "source": [
        "# Assignment 2"
      ],
      "metadata": {
        "id": "Xoc7f7duo5pK"
      }
    },
    {
      "cell_type": "code",
      "source": [
        "# 1.\n",
        "name=input(\"name: \")\n",
        "age=int(input(\"age: \"))\n",
        "\n",
        "print(f\"hi {name}, your current age is {age} and your age in 10 years is {age+10}\")"
      ],
      "metadata": {
        "colab": {
          "base_uri": "https://localhost:8080/"
        },
        "id": "YZr0W292o90x",
        "outputId": "2a0c31bc-f474-4c0a-8d43-4231967c6f57"
      },
      "execution_count": null,
      "outputs": [
        {
          "output_type": "stream",
          "name": "stdout",
          "text": [
            "name: annie\n",
            "age: 10\n",
            "hi annie, your current age is 10 and your age in 10 years is 20\n"
          ]
        }
      ]
    },
    {
      "cell_type": "code",
      "source": [
        "# 2.\n",
        "from math import pi\n",
        "radius=float(input(\"radius: \"))\n",
        "\n",
        "print(f\"diameter: {radius*2}\")\n",
        "print(f\"circumference: {2*pi*radius:.3f}\")\n",
        "print(f\"surface area: {4*pi*(radius**2):.3f}\")\n",
        "print(f\"volume: {4/3*pi*(radius**3):.3f}\")"
      ],
      "metadata": {
        "colab": {
          "base_uri": "https://localhost:8080/"
        },
        "id": "_x6gcZX-pY2-",
        "outputId": "bf63b46e-b28c-4dd0-99b0-7ac417fb521f"
      },
      "execution_count": null,
      "outputs": [
        {
          "output_type": "stream",
          "name": "stdout",
          "text": [
            "radius: 1\n",
            "diameter: 2.0\n",
            "circumference: 6.283\n",
            "surface area: 12.566\n",
            "volume: 4.189\n"
          ]
        }
      ]
    },
    {
      "cell_type": "code",
      "source": [
        "# 3.\n",
        "hourly=float(input(\"enter hourly wage: \"))\n",
        "hours=float(input(\"enter total regular hours: \"))\n",
        "overtime=float(input(\"enter total overtime hours: \"))\n",
        "\n",
        "print(f\"weekly pay = {hourly*hours+1.5*hourly*overtime:.0f}\")"
      ],
      "metadata": {
        "colab": {
          "base_uri": "https://localhost:8080/"
        },
        "id": "buPNbbafqU8_",
        "outputId": "ea071a64-48d8-4e38-a285-da8958084564"
      },
      "execution_count": null,
      "outputs": [
        {
          "output_type": "stream",
          "name": "stdout",
          "text": [
            "enter hourly wage: 1.5\n",
            "enter total regular hours: 1\n",
            "enter total overtime hours: 1\n",
            "weekly pay = 4\n"
          ]
        }
      ]
    },
    {
      "cell_type": "code",
      "source": [
        "# 4.\n",
        "bread=int(input(\"enter number of loaves of day old bread: \"))\n",
        "print(f\"regular price: ${bread*3.50:>6.2f}\\ndiscount: ${0.6*bread*3.50:>6.2f}\\ntotal price: ${0.4*bread*3.50:>6.2f}\")"
      ],
      "metadata": {
        "colab": {
          "base_uri": "https://localhost:8080/"
        },
        "id": "ijwA_u6sr63u",
        "outputId": "95b2f08e-d9d9-4c0b-cbf5-07e454ffdde8"
      },
      "execution_count": null,
      "outputs": [
        {
          "output_type": "stream",
          "name": "stdout",
          "text": [
            "enter number of loaves of day old bread: 10\n",
            "regular price: $ 35.00\n",
            "discount: $ 21.00\n",
            "total price: $ 14.00\n"
          ]
        }
      ]
    }
  ]
}