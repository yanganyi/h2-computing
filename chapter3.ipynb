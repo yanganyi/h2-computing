{
 "cells": [
  {
   "attachments": {},
   "cell_type": "markdown",
   "metadata": {},
   "source": [
    "# Chapter 3"
   ]
  },
  {
   "attachments": {},
   "cell_type": "markdown",
   "metadata": {},
   "source": [
    "## Tutorial 3A"
   ]
  },
  {
   "cell_type": "code",
   "execution_count": 2,
   "metadata": {},
   "outputs": [
    {
     "name": "stdout",
     "output_type": "stream",
     "text": [
      "True\n",
      "False\n",
      "False\n",
      "True\n",
      "True\n"
     ]
    }
   ],
   "source": [
    "# 1.\n",
    "print(not((4.5<12.9) and (6*2>=13)))\n",
    "print(not((4.5<12.9) or (6*2>=13)))\n",
    "print((0==1) or (2<3) and (7<6))\n",
    "print((2<3) or (0==1) and (7<6))\n",
    "print((50<100) and (\"100\"<\"1034\"))"
   ]
  },
  {
   "attachments": {},
   "cell_type": "markdown",
   "metadata": {},
   "source": [
    "2. in the case where score>90 but eligible!=\"Y\", the code on the left would have no output but the code on the right would have an output of \"Reject\". however in the case where score<=90, the code on the left would have an output of \"Reject\" while the code on the right would have no output"
   ]
  },
  {
   "attachments": {},
   "cell_type": "markdown",
   "metadata": {},
   "source": [
    "3. the left one is incorrect since a score of >=85 would give band 2 instead of 1. (solution is to write the >=85 case first) the right one is inefficient since after a student is already assigned a band, there is no need to check again. (use if, elif, else instead of if, if, if) ALSO, there is a typo in the right example, it is \"if\" not \"If\""
   ]
  },
  {
   "cell_type": "code",
   "execution_count": 3,
   "metadata": {},
   "outputs": [
    {
     "name": "stdout",
     "output_type": "stream",
     "text": [
      "Medium\n"
     ]
    }
   ],
   "source": [
    "# 4.\n",
    "risk=0\n",
    "age=int(input(\"age: \"))\n",
    "bmi=float(input(\"bmi: \"))\n",
    "\n",
    "if age>=45:\n",
    "    risk+=1\n",
    "if bmi>=22.0:\n",
    "    risk+=1\n",
    "\n",
    "match risk:\n",
    "    case 0:\n",
    "        print(\"Low\")\n",
    "    case 1:\n",
    "        print(\"Medium\")\n",
    "    case 2:\n",
    "        print(\"High\")"
   ]
  },
  {
   "cell_type": "code",
   "execution_count": 4,
   "metadata": {},
   "outputs": [
    {
     "name": "stdout",
     "output_type": "stream",
     "text": [
      "Player 2 wins\n"
     ]
    }
   ],
   "source": [
    "# 5.\n",
    "player1 = input('rock, paper or scissors (\"R\",\"P\",\"S\"): ').lower()\n",
    "player2 = input('rock, paper or scissors (\"R\",\"P\",\"S\"): ').lower()\n",
    "\n",
    "if  player1 == \"r\" and player2 == \"s\":\n",
    "    print(\"Player 1 wins\")\n",
    "elif player1 == \"p\" and player2 == \"r\":\n",
    "    print(\"Player 1 wins\")\n",
    "elif player1 == \"s\" and player2 == \"p\":\n",
    "    print(\"Player 1 wins\")\n",
    "else:\n",
    "    if player1 == player2:\n",
    "        print(\"It's a tie!\")\n",
    "    else:\n",
    "        print(\"Player 2 wins\")"
   ]
  },
  {
   "attachments": {},
   "cell_type": "markdown",
   "metadata": {},
   "source": [
    "## Tutorial 3B"
   ]
  },
  {
   "cell_type": "code",
   "execution_count": 7,
   "metadata": {},
   "outputs": [
    {
     "name": "stdout",
     "output_type": "stream",
     "text": [
      "1 2 3 4 5 \n",
      "\n",
      "1 2 3 \n",
      "\n",
      "1 3 5 \n",
      "\n",
      "6 5 4 3 2 "
     ]
    }
   ],
   "source": [
    "# 1.\n",
    "for count in range(5):\n",
    "    print(count+1,end=\" \")\n",
    "print(\"\\n\")\n",
    "for count in range(1,4):\n",
    "    print(count,end=\" \")\n",
    "print(\"\\n\")\n",
    "for count in range(1,6,2):\n",
    "    print(count,end=\" \")\n",
    "print(\"\\n\")\n",
    "for count in range(6,1,-1):\n",
    "    print(count,end=\" \")\n"
   ]
  },
  {
   "cell_type": "code",
   "execution_count": 8,
   "metadata": {},
   "outputs": [
    {
     "name": "stdout",
     "output_type": "stream",
     "text": [
      "ascii dec 0: \u0000\n",
      "ascii dec 1: \u0001\n",
      "ascii dec 2: \u0002\n",
      "ascii dec 3: \u0003\n",
      "ascii dec 4: \u0004\n",
      "ascii dec 5: \u0005\n",
      "ascii dec 6: \u0006\n",
      "ascii dec 7: \u0007\n",
      "ascii dec 8:\n",
      "ascii dec 9: \t\n",
      "ascii dec 10: \n",
      "\n",
      "ascii dec 11: \u000b\n",
      "ascii dec 12: \f\n",
      "ascii dec 13: \n",
      "ascii dec 14: \u000e\n",
      "ascii dec 15: \u000f\n",
      "ascii dec 16: \u0010\n",
      "ascii dec 17: \u0011\n",
      "ascii dec 18: \u0012\n",
      "ascii dec 19: \u0013\n",
      "ascii dec 20: \u0014\n",
      "ascii dec 21: \u0015\n",
      "ascii dec 22: \u0016\n",
      "ascii dec 23: \u0017\n",
      "ascii dec 24: \u0018\n",
      "ascii dec 25: \u0019\n",
      "ascii dec 26: \u001a\n",
      "ascii dec 27: \u001b\n",
      "ascii dec 28: \u001c\n",
      "ascii dec 29: \u001d\n",
      "ascii dec 30: \u001e\n",
      "ascii dec 31: \u001f\n",
      "ascii dec 32:  \n",
      "ascii dec 33: !\n",
      "ascii dec 34: \"\n",
      "ascii dec 35: #\n",
      "ascii dec 36: $\n",
      "ascii dec 37: %\n",
      "ascii dec 38: &\n",
      "ascii dec 39: '\n",
      "ascii dec 40: (\n",
      "ascii dec 41: )\n",
      "ascii dec 42: *\n",
      "ascii dec 43: +\n",
      "ascii dec 44: ,\n",
      "ascii dec 45: -\n",
      "ascii dec 46: .\n",
      "ascii dec 47: /\n",
      "ascii dec 48: 0\n",
      "ascii dec 49: 1\n",
      "ascii dec 50: 2\n",
      "ascii dec 51: 3\n",
      "ascii dec 52: 4\n",
      "ascii dec 53: 5\n",
      "ascii dec 54: 6\n",
      "ascii dec 55: 7\n",
      "ascii dec 56: 8\n",
      "ascii dec 57: 9\n",
      "ascii dec 58: :\n",
      "ascii dec 59: ;\n",
      "ascii dec 60: <\n",
      "ascii dec 61: =\n",
      "ascii dec 62: >\n",
      "ascii dec 63: ?\n",
      "ascii dec 64: @\n",
      "ascii dec 65: A\n",
      "ascii dec 66: B\n",
      "ascii dec 67: C\n",
      "ascii dec 68: D\n",
      "ascii dec 69: E\n",
      "ascii dec 70: F\n",
      "ascii dec 71: G\n",
      "ascii dec 72: H\n",
      "ascii dec 73: I\n",
      "ascii dec 74: J\n",
      "ascii dec 75: K\n",
      "ascii dec 76: L\n",
      "ascii dec 77: M\n",
      "ascii dec 78: N\n",
      "ascii dec 79: O\n",
      "ascii dec 80: P\n",
      "ascii dec 81: Q\n",
      "ascii dec 82: R\n",
      "ascii dec 83: S\n",
      "ascii dec 84: T\n",
      "ascii dec 85: U\n",
      "ascii dec 86: V\n",
      "ascii dec 87: W\n",
      "ascii dec 88: X\n",
      "ascii dec 89: Y\n",
      "ascii dec 90: Z\n",
      "ascii dec 91: [\n",
      "ascii dec 92: \\\n",
      "ascii dec 93: ]\n",
      "ascii dec 94: ^\n",
      "ascii dec 95: _\n",
      "ascii dec 96: `\n",
      "ascii dec 97: a\n",
      "ascii dec 98: b\n",
      "ascii dec 99: c\n",
      "ascii dec 100: d\n",
      "ascii dec 101: e\n",
      "ascii dec 102: f\n",
      "ascii dec 103: g\n",
      "ascii dec 104: h\n",
      "ascii dec 105: i\n",
      "ascii dec 106: j\n",
      "ascii dec 107: k\n",
      "ascii dec 108: l\n",
      "ascii dec 109: m\n",
      "ascii dec 110: n\n",
      "ascii dec 111: o\n",
      "ascii dec 112: p\n",
      "ascii dec 113: q\n",
      "ascii dec 114: r\n",
      "ascii dec 115: s\n",
      "ascii dec 116: t\n",
      "ascii dec 117: u\n",
      "ascii dec 118: v\n",
      "ascii dec 119: w\n",
      "ascii dec 120: x\n",
      "ascii dec 121: y\n",
      "ascii dec 122: z\n",
      "ascii dec 123: {\n",
      "ascii dec 124: |\n",
      "ascii dec 125: }\n",
      "ascii dec 126: ~\n",
      "ascii dec 127: \n"
     ]
    }
   ],
   "source": [
    "# 2.\n",
    "for i in range(128):\n",
    "    print(f\"ascii dec {i}: {chr(i)}\")"
   ]
  },
  {
   "cell_type": "code",
   "execution_count": 9,
   "metadata": {},
   "outputs": [
    {
     "name": "stdout",
     "output_type": "stream",
     "text": [
      "character: S ascii value: 83\n",
      "character: P ascii value: 80\n",
      "character: Y ascii value: 89\n",
      "character: x ascii value: 120\n",
      "character: F ascii value: 70\n",
      "character: A ascii value: 65\n",
      "character: M ascii value: 77\n",
      "character: I ascii value: 73\n",
      "character: L ascii value: 76\n",
      "character: Y ascii value: 89\n"
     ]
    }
   ],
   "source": [
    "# 3.\n",
    "testString=\"SPYxFAMILY\"\n",
    "for i in testString:\n",
    "    print(f\"character: {i} ascii value: {ord(i)}\")"
   ]
  },
  {
   "cell_type": "code",
   "execution_count": null,
   "metadata": {},
   "outputs": [],
   "source": [
    "# 4.\n"
   ]
  }
 ],
 "metadata": {
  "kernelspec": {
   "display_name": "Python 3",
   "language": "python",
   "name": "python3"
  },
  "language_info": {
   "codemirror_mode": {
    "name": "ipython",
    "version": 3
   },
   "file_extension": ".py",
   "mimetype": "text/x-python",
   "name": "python",
   "nbconvert_exporter": "python",
   "pygments_lexer": "ipython3",
   "version": "3.11.0"
  },
  "orig_nbformat": 4,
  "vscode": {
   "interpreter": {
    "hash": "aee8b7b246df8f9039afb4144a1f6fd8d2ca17a180786b69acc140d282b71a49"
   }
  }
 },
 "nbformat": 4,
 "nbformat_minor": 2
}
